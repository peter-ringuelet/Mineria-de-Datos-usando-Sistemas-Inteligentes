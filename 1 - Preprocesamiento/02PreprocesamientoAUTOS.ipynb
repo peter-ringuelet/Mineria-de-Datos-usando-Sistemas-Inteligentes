{
 "cells": [
  {
   "cell_type": "code",
   "execution_count": 1,
   "id": "80a53f41",
   "metadata": {},
   "outputs": [],
   "source": [
    "ColabNotebook = 'google.colab' in str(get_ipython())\n",
    "\n",
    "if ColabNotebook:\n",
    "    # monta Google drive en entorno COLAB\n",
    "    from google.colab import drive\n",
    "    drive.mount('/content/drive/')\n",
    "    \n",
    "    DATOS_DIR = '/content/drive/MyDrive/DATOS/'      # carpeta donde se encuentran los datasets\n",
    "else:\n",
    "    # configuración para notebook con instalación LOCAL\n",
    "    DATOS_DIR = '../MIDUSI - Teoria/Datos/'          # carpeta donde se encuentran los datasets\n"
   ]
  },
  {
   "cell_type": "markdown",
   "id": "70cfae07",
   "metadata": {},
   "source": [
    "Importamos las librerías y abrimos el archivo"
   ]
  },
  {
   "cell_type": "code",
   "execution_count": 2,
   "id": "c6130439",
   "metadata": {},
   "outputs": [
    {
     "data": {
      "text/html": [
       "<div>\n",
       "<style scoped>\n",
       "    .dataframe tbody tr th:only-of-type {\n",
       "        vertical-align: middle;\n",
       "    }\n",
       "\n",
       "    .dataframe tbody tr th {\n",
       "        vertical-align: top;\n",
       "    }\n",
       "\n",
       "    .dataframe thead th {\n",
       "        text-align: right;\n",
       "    }\n",
       "</style>\n",
       "<table border=\"1\" class=\"dataframe\">\n",
       "  <thead>\n",
       "    <tr style=\"text-align: right;\">\n",
       "      <th></th>\n",
       "      <th>mpg</th>\n",
       "      <th>cylinders</th>\n",
       "      <th>displacement</th>\n",
       "      <th>horsepower</th>\n",
       "      <th>weight</th>\n",
       "      <th>acceleration</th>\n",
       "      <th>model_year</th>\n",
       "      <th>origin</th>\n",
       "      <th>car_name</th>\n",
       "    </tr>\n",
       "  </thead>\n",
       "  <tbody>\n",
       "    <tr>\n",
       "      <th>0</th>\n",
       "      <td>18.0</td>\n",
       "      <td>ocho</td>\n",
       "      <td>3070</td>\n",
       "      <td>130.0</td>\n",
       "      <td>3504</td>\n",
       "      <td>120</td>\n",
       "      <td>70</td>\n",
       "      <td>1</td>\n",
       "      <td>chevrolet chevelle malibu</td>\n",
       "    </tr>\n",
       "    <tr>\n",
       "      <th>1</th>\n",
       "      <td>15.0</td>\n",
       "      <td>ocho</td>\n",
       "      <td>3500</td>\n",
       "      <td>165.0</td>\n",
       "      <td>3693</td>\n",
       "      <td>115</td>\n",
       "      <td>70</td>\n",
       "      <td>1</td>\n",
       "      <td>buick skylark 320</td>\n",
       "    </tr>\n",
       "    <tr>\n",
       "      <th>2</th>\n",
       "      <td>18.0</td>\n",
       "      <td>ocho</td>\n",
       "      <td>3180</td>\n",
       "      <td>150.0</td>\n",
       "      <td>3436</td>\n",
       "      <td>110</td>\n",
       "      <td>70</td>\n",
       "      <td>1</td>\n",
       "      <td>plymouth satellite</td>\n",
       "    </tr>\n",
       "    <tr>\n",
       "      <th>3</th>\n",
       "      <td>16.0</td>\n",
       "      <td>ocho</td>\n",
       "      <td>3040</td>\n",
       "      <td>150.0</td>\n",
       "      <td>3433</td>\n",
       "      <td>120</td>\n",
       "      <td>70</td>\n",
       "      <td>1</td>\n",
       "      <td>amc rebel sst</td>\n",
       "    </tr>\n",
       "    <tr>\n",
       "      <th>4</th>\n",
       "      <td>17.0</td>\n",
       "      <td>ocho</td>\n",
       "      <td>3020</td>\n",
       "      <td>140.0</td>\n",
       "      <td>3449</td>\n",
       "      <td>105</td>\n",
       "      <td>70</td>\n",
       "      <td>1</td>\n",
       "      <td>ford torino</td>\n",
       "    </tr>\n",
       "    <tr>\n",
       "      <th>...</th>\n",
       "      <td>...</td>\n",
       "      <td>...</td>\n",
       "      <td>...</td>\n",
       "      <td>...</td>\n",
       "      <td>...</td>\n",
       "      <td>...</td>\n",
       "      <td>...</td>\n",
       "      <td>...</td>\n",
       "      <td>...</td>\n",
       "    </tr>\n",
       "    <tr>\n",
       "      <th>401</th>\n",
       "      <td>27.0</td>\n",
       "      <td>cuatro</td>\n",
       "      <td>1400</td>\n",
       "      <td>86.0</td>\n",
       "      <td>2790</td>\n",
       "      <td>156</td>\n",
       "      <td>82</td>\n",
       "      <td>1</td>\n",
       "      <td>ford mustang gl</td>\n",
       "    </tr>\n",
       "    <tr>\n",
       "      <th>402</th>\n",
       "      <td>44.0</td>\n",
       "      <td>cuatro</td>\n",
       "      <td>9700</td>\n",
       "      <td>52.0</td>\n",
       "      <td>2130</td>\n",
       "      <td>246</td>\n",
       "      <td>82</td>\n",
       "      <td>2</td>\n",
       "      <td>vw pickup</td>\n",
       "    </tr>\n",
       "    <tr>\n",
       "      <th>403</th>\n",
       "      <td>32.0</td>\n",
       "      <td>cuatro</td>\n",
       "      <td>1350</td>\n",
       "      <td>84.0</td>\n",
       "      <td>2295</td>\n",
       "      <td>116</td>\n",
       "      <td>82</td>\n",
       "      <td>1</td>\n",
       "      <td>dodge rampage</td>\n",
       "    </tr>\n",
       "    <tr>\n",
       "      <th>404</th>\n",
       "      <td>28.0</td>\n",
       "      <td>cuatro</td>\n",
       "      <td>1200</td>\n",
       "      <td>79.0</td>\n",
       "      <td>2625</td>\n",
       "      <td>186</td>\n",
       "      <td>82</td>\n",
       "      <td>1</td>\n",
       "      <td>ford ranger</td>\n",
       "    </tr>\n",
       "    <tr>\n",
       "      <th>405</th>\n",
       "      <td>31.0</td>\n",
       "      <td>cuatro</td>\n",
       "      <td>1190</td>\n",
       "      <td>82.0</td>\n",
       "      <td>2720</td>\n",
       "      <td>194</td>\n",
       "      <td>82</td>\n",
       "      <td>1</td>\n",
       "      <td>chevy s-10</td>\n",
       "    </tr>\n",
       "  </tbody>\n",
       "</table>\n",
       "<p>406 rows × 9 columns</p>\n",
       "</div>"
      ],
      "text/plain": [
       "      mpg cylinders  displacement  horsepower  weight  acceleration  \\\n",
       "0    18.0      ocho          3070       130.0    3504           120   \n",
       "1    15.0      ocho          3500       165.0    3693           115   \n",
       "2    18.0      ocho          3180       150.0    3436           110   \n",
       "3    16.0      ocho          3040       150.0    3433           120   \n",
       "4    17.0      ocho          3020       140.0    3449           105   \n",
       "..    ...       ...           ...         ...     ...           ...   \n",
       "401  27.0    cuatro          1400        86.0    2790           156   \n",
       "402  44.0    cuatro          9700        52.0    2130           246   \n",
       "403  32.0    cuatro          1350        84.0    2295           116   \n",
       "404  28.0    cuatro          1200        79.0    2625           186   \n",
       "405  31.0    cuatro          1190        82.0    2720           194   \n",
       "\n",
       "     model_year  origin                   car_name  \n",
       "0            70       1  chevrolet chevelle malibu  \n",
       "1            70       1          buick skylark 320  \n",
       "2            70       1         plymouth satellite  \n",
       "3            70       1              amc rebel sst  \n",
       "4            70       1                ford torino  \n",
       "..          ...     ...                        ...  \n",
       "401          82       1            ford mustang gl  \n",
       "402          82       2                  vw pickup  \n",
       "403          82       1              dodge rampage  \n",
       "404          82       1                ford ranger  \n",
       "405          82       1                 chevy s-10  \n",
       "\n",
       "[406 rows x 9 columns]"
      ]
     },
     "execution_count": 2,
     "metadata": {},
     "output_type": "execute_result"
    }
   ],
   "source": [
    "import math \n",
    "import pandas as pd\n",
    "import numpy as np\n",
    "import matplotlib.pyplot as plt\n",
    "\n",
    "df = pd.read_csv(DATOS_DIR + 'autos-mpg.csv', sep=';')\n",
    "df"
   ]
  },
  {
   "cell_type": "markdown",
   "id": "2ab06e51",
   "metadata": {},
   "source": [
    "# Diagrama de Caja"
   ]
  },
  {
   "cell_type": "markdown",
   "id": "e6ae00f7",
   "metadata": {},
   "source": [
    "### Diagrama de Caja de Tukey del atributo ACCELERATION "
   ]
  },
  {
   "cell_type": "code",
   "execution_count": 3,
   "id": "d6cd4750",
   "metadata": {},
   "outputs": [
    {
     "data": {
      "image/png": "[encoded data removed]",
      "text/plain": [
       "<Figure size 720x144 with 1 Axes>"
      ]
     },
     "metadata": {
      "needs_background": "light"
     },
     "output_type": "display_data"
    }
   ],
   "source": [
    "# Define el tamaño de la figura\n",
    "plt.figure(figsize=(10, 2))\n",
    "\n",
    "# Trama el diagrama de caja\n",
    "df.boxplot(column=['acceleration'], vert=False)\n",
    "\n",
    "# Muestra el diagrama de caja\n",
    "plt.show()\n"
   ]
  },
  {
   "cell_type": "markdown",
   "id": "fcb2db8f",
   "metadata": {},
   "source": [
    "### Diagramas de Caja de Tukey del atributo ACELERATION agrupado por OPCION"
   ]
  },
  {
   "cell_type": "code",
   "execution_count": 4,
   "id": "cc899485",
   "metadata": {},
   "outputs": [
    {
     "data": {
      "image/png": "[encoded data removed]",
      "text/plain": [
       "<Figure size 432x288 with 1 Axes>"
      ]
     },
     "metadata": {
      "needs_background": "light"
     },
     "output_type": "display_data"
    }
   ],
   "source": [
    "aux = df.boxplot(column=['mpg'], by='origin')\n"
   ]
  },
  {
   "cell_type": "code",
   "execution_count": 5,
   "id": "24280dc1",
   "metadata": {},
   "outputs": [
    {
     "name": "stdout",
     "output_type": "stream",
     "text": [
      "CUARTILES del atributo ACCELERATION\n",
      "[137.25 155.   172.  ]\n",
      "\n",
      "Q1 =  137.25 \n",
      "Q2 =  155.0 \n",
      "Q3 =  172.0\n"
     ]
    }
   ],
   "source": [
    "print(\"CUARTILES del atributo ACCELERATION\")\n",
    "Q = df[\"acceleration\"].quantile([0.25, 0.5, 0.75]).values\n",
    "print(Q)\n",
    "print(\"\\nQ1 = \", Q[0],\"\\nQ2 = \", Q[1],\"\\nQ3 = \", Q[2])\n"
   ]
  },
  {
   "cell_type": "markdown",
   "id": "22553fda",
   "metadata": {},
   "source": [
    "# Datos faltantes\n",
    "\n",
    "Veamos si hay datos faltantes"
   ]
  },
  {
   "cell_type": "code",
   "execution_count": 6,
   "id": "f20067b6",
   "metadata": {},
   "outputs": [
    {
     "name": "stdout",
     "output_type": "stream",
     "text": [
      "mpg             8\n",
      "cylinders       0\n",
      "displacement    0\n",
      "horsepower      6\n",
      "weight          0\n",
      "acceleration    0\n",
      "model_year      0\n",
      "origin          0\n",
      "car_name        0\n",
      "dtype: int64\n"
     ]
    }
   ],
   "source": [
    "print(df.isnull().sum())"
   ]
  },
  {
   "cell_type": "markdown",
   "id": "81690bff",
   "metadata": {},
   "source": [
    "### Completando datos faltantes"
   ]
  },
  {
   "cell_type": "code",
   "execution_count": 7,
   "id": "5685b111",
   "metadata": {},
   "outputs": [
    {
     "data": {
      "text/plain": [
       "mpg             0\n",
       "cylinders       0\n",
       "displacement    0\n",
       "horsepower      0\n",
       "weight          0\n",
       "acceleration    0\n",
       "model_year      0\n",
       "origin          0\n",
       "car_name        0\n",
       "dtype: int64"
      ]
     },
     "execution_count": 7,
     "metadata": {},
     "output_type": "execute_result"
    }
   ],
   "source": [
    "values = {'mpg': df['mpg'].mean(), 'horsepower': df['horsepower'].min()}\n",
    "df.fillna(value=values, inplace=True)\n",
    "df.isnull().sum()"
   ]
  },
  {
   "cell_type": "markdown",
   "id": "7e26dc1a",
   "metadata": {},
   "source": [
    "Como puede verse en la salida anterior, ya no quedan atributos con valores faltantes. Suponiendo que el atributo CYLINDERS tuviera valores faltantes y se quisiera completar con su moda debería ejecutar el siguiente código. En este caso, no tendrá efecto ya que el atributo CYLINDERS no tiene valores faltantes."
   ]
  },
  {
   "cell_type": "code",
   "execution_count": 8,
   "id": "548b2b45",
   "metadata": {},
   "outputs": [
    {
     "name": "stdout",
     "output_type": "stream",
     "text": [
      "La MODA del atributo 'cylinders' es  cuatro\n"
     ]
    },
    {
     "data": {
      "text/plain": [
       "mpg             0\n",
       "cylinders       0\n",
       "displacement    0\n",
       "horsepower      0\n",
       "weight          0\n",
       "acceleration    0\n",
       "model_year      0\n",
       "origin          0\n",
       "car_name        0\n",
       "dtype: int64"
      ]
     },
     "execution_count": 8,
     "metadata": {},
     "output_type": "execute_result"
    }
   ],
   "source": [
    "#-- completando un atributo nominal con su moda --\n",
    "\n",
    "modaGen = df['cylinders'].mode()[0]\n",
    "\n",
    "print(\"La MODA del atributo 'cylinders' es \", modaGen)\n",
    "\n",
    "df['cylinders'] = df['cylinders'].replace(np.nan, modaGen)\n",
    "df.isnull().sum()"
   ]
  },
  {
   "cell_type": "code",
   "execution_count": 9,
   "id": "7237dc9d",
   "metadata": {},
   "outputs": [],
   "source": [
    "def diagrama_de_barras(df, columna):\n",
    "    \"\"\"\n",
    "    Genera un gráfico de barras de la columna especificada del DataFrame.\n",
    "    \n",
    "    Parámetros:\n",
    "        df (DataFrame): El DataFrame que contiene los datos.\n",
    "        columna (str): El nombre de la columna a analizar.\n",
    "    \"\"\"\n",
    "    barras = pd.value_counts(df[columna])\n",
    "    plt.figure()\n",
    "    N = len(barras)\n",
    "    plt.bar(np.arange(N), barras)  # Gráfico de barras\n",
    "    plt.xlabel(columna)\n",
    "    plt.ylabel('Frecuencia')\n",
    "    plt.title('Discretización por Rango')\n",
    "    # Colocamos las etiquetas del eje x\n",
    "    plt.xticks(np.arange(N), barras.index)\n",
    "    plt.show()"
   ]
  },
  {
   "cell_type": "markdown",
   "id": "f708e865",
   "metadata": {},
   "source": [
    "## Reducción de valores del atributo cylinders\n",
    "\n",
    "Observando la frecuencia con la que aparecen los valores del atributo \"cylinders\" vemos que hay muy pocos autos con 3 o 5 cilindros. "
   ]
  },
  {
   "cell_type": "code",
   "execution_count": 10,
   "id": "e7ec7c5c",
   "metadata": {},
   "outputs": [
    {
     "data": {
      "text/plain": [
       "cuatro    207\n",
       "ocho      108\n",
       "seis       84\n",
       "tres        4\n",
       "cinco       3\n",
       "Name: cylinders, dtype: int64"
      ]
     },
     "execution_count": 10,
     "metadata": {},
     "output_type": "execute_result"
    }
   ],
   "source": [
    "opciones = pd.value_counts(df['cylinders'])\n",
    "opciones"
   ]
  },
  {
   "cell_type": "code",
   "execution_count": 11,
   "id": "83a5f32f",
   "metadata": {},
   "outputs": [
    {
     "data": {
      "image/png": "[encoded data removed]",
      "text/plain": [
       "<Figure size 432x288 with 1 Axes>"
      ]
     },
     "metadata": {
      "needs_background": "light"
     },
     "output_type": "display_data"
    }
   ],
   "source": [
    "diagrama_de_barras(df, 'cylinders')"
   ]
  },
  {
   "cell_type": "code",
   "execution_count": 12,
   "id": "ec21b06e",
   "metadata": {},
   "outputs": [
    {
     "data": {
      "text/plain": [
       "cuatro    211\n",
       "ocho      108\n",
       "seis       87\n",
       "Name: cylinders, dtype: int64"
      ]
     },
     "execution_count": 12,
     "metadata": {},
     "output_type": "execute_result"
    }
   ],
   "source": [
    "# Reemplazando valores\n",
    "mapeo = {'cylinders': {'tres':'cuatro', 'cinco':'seis'}}\n",
    "df.replace(mapeo, inplace=True)\n",
    "\n",
    "#df['cylinders'] = df['cylinders'].replace(['cinco','seis', 'ocho'], 'mas_de_cuatro')\n",
    "\n",
    "# revisar cómo quedó\n",
    "opciones2 = pd.value_counts(df['cylinders'])\n",
    "opciones2"
   ]
  },
  {
   "cell_type": "markdown",
   "id": "c2d39561",
   "metadata": {},
   "source": [
    "# Generando un nuevo atributo"
   ]
  },
  {
   "cell_type": "code",
   "execution_count": 13,
   "id": "067cc328",
   "metadata": {},
   "outputs": [
    {
     "name": "stdout",
     "output_type": "stream",
     "text": [
      "Atributo decada\n",
      "70s    316\n",
      "80s     90\n",
      "Name: decada, dtype: int64\n"
     ]
    },
    {
     "data": {
      "image/png": "[encoded data removed]",
      "text/plain": [
       "<Figure size 432x288 with 1 Axes>"
      ]
     },
     "metadata": {
      "needs_background": "light"
     },
     "output_type": "display_data"
    }
   ],
   "source": [
    "DEC = ['80s'] * len(df)\n",
    "for i in range(len(df)):\n",
    "    if df['model_year'][i] < 80:\n",
    "        DEC[i] = '70s'\n",
    "# Agregando un atributo al DataFrame\n",
    "df = df.assign( decada = DEC )\n",
    "\n",
    "print('Atributo decada')\n",
    "print(pd.value_counts(df['decada']))\n",
    "\n",
    "diagrama_de_barras(df, 'decada')"
   ]
  },
  {
   "cell_type": "markdown",
   "id": "155acdfa",
   "metadata": {},
   "source": [
    "# Discretización"
   ]
  },
  {
   "cell_type": "markdown",
   "id": "2e6475fd",
   "metadata": {},
   "source": [
    "### Discretización por rango"
   ]
  },
  {
   "cell_type": "code",
   "execution_count": 14,
   "id": "61f72fe2",
   "metadata": {},
   "outputs": [
    {
     "name": "stdout",
     "output_type": "stream",
     "text": [
      "bajo        147\n",
      "medio       128\n",
      "alto         90\n",
      "muy alto     41\n",
      "Name: weight2, dtype: int64\n"
     ]
    },
    {
     "data": {
      "image/png": "[encoded data removed]",
      "text/plain": [
       "<Figure size 432x288 with 1 Axes>"
      ]
     },
     "metadata": {
      "needs_background": "light"
     },
     "output_type": "display_data"
    }
   ],
   "source": [
    "etiq = [\"bajo\",\"medio\",\"alto\", \"muy alto\"]\n",
    "\n",
    "# Discretización por RANGO\n",
    "columna = pd.cut(df[\"weight\"],bins=len(etiq),labels=etiq)\n",
    "\n",
    "df['weight2']= pd.Series.to_frame(columna)\n",
    "\n",
    "print(pd.value_counts(df['weight2']))\n",
    "\n",
    "df[[\"mpg\",\"cylinders\",\"displacement\",\"horsepower\",\"weight\",\"weight2\"]]\n",
    "\n",
    "diagrama_de_barras(df,'weight2')"
   ]
  },
  {
   "cell_type": "markdown",
   "id": "5053ec86",
   "metadata": {},
   "source": [
    "### Discretización por frecuencia"
   ]
  },
  {
   "cell_type": "code",
   "execution_count": 15,
   "id": "076ea62c",
   "metadata": {},
   "outputs": [
    {
     "name": "stdout",
     "output_type": "stream",
     "text": [
      "bajo        102\n",
      "muy alto    102\n",
      "medio       101\n",
      "alto        101\n",
      "Name: weight3, dtype: int64\n"
     ]
    },
    {
     "data": {
      "image/png": "[encoded data removed]",
      "text/plain": [
       "<Figure size 432x288 with 1 Axes>"
      ]
     },
     "metadata": {
      "needs_background": "light"
     },
     "output_type": "display_data"
    }
   ],
   "source": [
    "etiq = [\"bajo\",\"medio\",\"alto\",\"muy alto\"]\n",
    "\n",
    "columna = pd.qcut(df[\"weight\"], q=len(etiq), labels=etiq)\n",
    "\n",
    "df['weight3']= pd.Series.to_frame(columna)\n",
    "\n",
    "#-- frecuencia con la que aparece cada valor\n",
    "print(pd.value_counts(df['weight3']))\n",
    "\n",
    "diagrama_de_barras(df,'weight3')"
   ]
  },
  {
   "cell_type": "markdown",
   "id": "20e62879",
   "metadata": {},
   "source": [
    "### Discretización indicada por el usuario"
   ]
  },
  {
   "cell_type": "code",
   "execution_count": 16,
   "id": "f34e671f",
   "metadata": {},
   "outputs": [
    {
     "name": "stdout",
     "output_type": "stream",
     "text": [
      "normal     192\n",
      "liviano    121\n",
      "pesado      93\n",
      "Name: weight4, dtype: int64\n"
     ]
    },
    {
     "data": {
      "image/png": "[encoded data removed]",
      "text/plain": [
       "<Figure size 432x288 with 1 Axes>"
      ]
     },
     "metadata": {
      "needs_background": "light"
     },
     "output_type": "display_data"
    }
   ],
   "source": [
    "etiq = [\"liviano\",\"normal\",\"pesado\"]\n",
    "valores = [-math.inf, 2300, 3700, math.inf]\n",
    "\n",
    "columna = pd.cut(df[\"weight\"],bins=valores,labels=etiq)\n",
    "\n",
    "df['weight4']= pd.Series.to_frame(columna)\n",
    "\n",
    "print(pd.value_counts(df['weight4']))\n",
    "\n",
    "diagrama_de_barras(df,'weight4')"
   ]
  },
  {
   "cell_type": "markdown",
   "id": "09fb4037",
   "metadata": {},
   "source": [
    "# Normalización"
   ]
  },
  {
   "cell_type": "markdown",
   "id": "fe18dc9b",
   "metadata": {},
   "source": [
    "### Normalización lineal uniforme entre 0 y 1"
   ]
  },
  {
   "cell_type": "code",
   "execution_count": 17,
   "id": "2ed5d96c",
   "metadata": {},
   "outputs": [
    {
     "data": {
      "text/html": [
       "<div>\n",
       "<style scoped>\n",
       "    .dataframe tbody tr th:only-of-type {\n",
       "        vertical-align: middle;\n",
       "    }\n",
       "\n",
       "    .dataframe tbody tr th {\n",
       "        vertical-align: top;\n",
       "    }\n",
       "\n",
       "    .dataframe thead th {\n",
       "        text-align: right;\n",
       "    }\n",
       "</style>\n",
       "<table border=\"1\" class=\"dataframe\">\n",
       "  <thead>\n",
       "    <tr style=\"text-align: right;\">\n",
       "      <th></th>\n",
       "      <th>horsepower</th>\n",
       "      <th>attLineal</th>\n",
       "    </tr>\n",
       "  </thead>\n",
       "  <tbody>\n",
       "    <tr>\n",
       "      <th>count</th>\n",
       "      <td>406.000000</td>\n",
       "      <td>406.000000</td>\n",
       "    </tr>\n",
       "    <tr>\n",
       "      <th>mean</th>\n",
       "      <td>104.209360</td>\n",
       "      <td>0.316355</td>\n",
       "    </tr>\n",
       "    <tr>\n",
       "      <th>std</th>\n",
       "      <td>39.136961</td>\n",
       "      <td>0.212701</td>\n",
       "    </tr>\n",
       "    <tr>\n",
       "      <th>min</th>\n",
       "      <td>46.000000</td>\n",
       "      <td>0.000000</td>\n",
       "    </tr>\n",
       "    <tr>\n",
       "      <th>25%</th>\n",
       "      <td>75.000000</td>\n",
       "      <td>0.157609</td>\n",
       "    </tr>\n",
       "    <tr>\n",
       "      <th>50%</th>\n",
       "      <td>93.500000</td>\n",
       "      <td>0.258152</td>\n",
       "    </tr>\n",
       "    <tr>\n",
       "      <th>75%</th>\n",
       "      <td>129.000000</td>\n",
       "      <td>0.451087</td>\n",
       "    </tr>\n",
       "    <tr>\n",
       "      <th>max</th>\n",
       "      <td>230.000000</td>\n",
       "      <td>1.000000</td>\n",
       "    </tr>\n",
       "  </tbody>\n",
       "</table>\n",
       "</div>"
      ],
      "text/plain": [
       "       horsepower   attLineal\n",
       "count  406.000000  406.000000\n",
       "mean   104.209360    0.316355\n",
       "std     39.136961    0.212701\n",
       "min     46.000000    0.000000\n",
       "25%     75.000000    0.157609\n",
       "50%     93.500000    0.258152\n",
       "75%    129.000000    0.451087\n",
       "max    230.000000    1.000000"
      ]
     },
     "execution_count": 17,
     "metadata": {},
     "output_type": "execute_result"
    }
   ],
   "source": [
    "att = \"horsepower\"\n",
    "# -- Escala los valores entre 0 y 1 --\n",
    "mini = df[att].min()\n",
    "maxi = df[att].max()\n",
    "df['attLineal']= (df[att]-mini)/(maxi-mini)\n",
    "\n",
    "df[[att, 'attLineal']].describe()"
   ]
  },
  {
   "cell_type": "markdown",
   "id": "3f794a72",
   "metadata": {},
   "source": [
    "### Normalización usando media y desvío "
   ]
  },
  {
   "cell_type": "code",
   "execution_count": 18,
   "id": "15f16fcd",
   "metadata": {},
   "outputs": [
    {
     "data": {
      "text/html": [
       "<div>\n",
       "<style scoped>\n",
       "    .dataframe tbody tr th:only-of-type {\n",
       "        vertical-align: middle;\n",
       "    }\n",
       "\n",
       "    .dataframe tbody tr th {\n",
       "        vertical-align: top;\n",
       "    }\n",
       "\n",
       "    .dataframe thead th {\n",
       "        text-align: right;\n",
       "    }\n",
       "</style>\n",
       "<table border=\"1\" class=\"dataframe\">\n",
       "  <thead>\n",
       "    <tr style=\"text-align: right;\">\n",
       "      <th></th>\n",
       "      <th>horsepower</th>\n",
       "      <th>attLineal</th>\n",
       "      <th>attNorm</th>\n",
       "    </tr>\n",
       "  </thead>\n",
       "  <tbody>\n",
       "    <tr>\n",
       "      <th>count</th>\n",
       "      <td>406.0000</td>\n",
       "      <td>406.0000</td>\n",
       "      <td>406.0000</td>\n",
       "    </tr>\n",
       "    <tr>\n",
       "      <th>mean</th>\n",
       "      <td>104.2094</td>\n",
       "      <td>0.3164</td>\n",
       "      <td>-0.0000</td>\n",
       "    </tr>\n",
       "    <tr>\n",
       "      <th>std</th>\n",
       "      <td>39.1370</td>\n",
       "      <td>0.2127</td>\n",
       "      <td>1.0000</td>\n",
       "    </tr>\n",
       "    <tr>\n",
       "      <th>min</th>\n",
       "      <td>46.0000</td>\n",
       "      <td>0.0000</td>\n",
       "      <td>-1.4873</td>\n",
       "    </tr>\n",
       "    <tr>\n",
       "      <th>25%</th>\n",
       "      <td>75.0000</td>\n",
       "      <td>0.1576</td>\n",
       "      <td>-0.7463</td>\n",
       "    </tr>\n",
       "    <tr>\n",
       "      <th>50%</th>\n",
       "      <td>93.5000</td>\n",
       "      <td>0.2582</td>\n",
       "      <td>-0.2736</td>\n",
       "    </tr>\n",
       "    <tr>\n",
       "      <th>75%</th>\n",
       "      <td>129.0000</td>\n",
       "      <td>0.4511</td>\n",
       "      <td>0.6334</td>\n",
       "    </tr>\n",
       "    <tr>\n",
       "      <th>max</th>\n",
       "      <td>230.0000</td>\n",
       "      <td>1.0000</td>\n",
       "      <td>3.2141</td>\n",
       "    </tr>\n",
       "  </tbody>\n",
       "</table>\n",
       "</div>"
      ],
      "text/plain": [
       "       horsepower  attLineal   attNorm\n",
       "count    406.0000   406.0000  406.0000\n",
       "mean     104.2094     0.3164   -0.0000\n",
       "std       39.1370     0.2127    1.0000\n",
       "min       46.0000     0.0000   -1.4873\n",
       "25%       75.0000     0.1576   -0.7463\n",
       "50%       93.5000     0.2582   -0.2736\n",
       "75%      129.0000     0.4511    0.6334\n",
       "max      230.0000     1.0000    3.2141"
      ]
     },
     "execution_count": 18,
     "metadata": {},
     "output_type": "execute_result"
    }
   ],
   "source": [
    "# -- Estandarización --\n",
    "media = df[att].mean()\n",
    "desvio = df[att].std()\n",
    "df['attNorm']= (df[att]-media)/desvio\n",
    "\n",
    "round(df[[att, 'attLineal', 'attNorm']].describe(),4)"
   ]
  },
  {
   "cell_type": "code",
   "execution_count": 19,
   "id": "d4970627",
   "metadata": {},
   "outputs": [
    {
     "data": {
      "text/plain": [
       "<Figure size 2160x432 with 0 Axes>"
      ]
     },
     "metadata": {},
     "output_type": "display_data"
    },
    {
     "data": {
      "image/png": "[encoded data removed]",
      "text/plain": [
       "<Figure size 432x288 with 4 Axes>"
      ]
     },
     "metadata": {
      "needs_background": "light"
     },
     "output_type": "display_data"
    }
   ],
   "source": [
    "plt.figure(figsize=(30, 6))\n",
    "df[[att,'attLineal','attNorm']].hist()\n",
    "plt.show()"
   ]
  },
  {
   "cell_type": "code",
   "execution_count": 28,
   "id": "8996ce90",
   "metadata": {},
   "outputs": [
    {
     "data": {
      "image/png": "[encoded data removed]",
      "text/plain": [
       "<Figure size 1440x288 with 3 Axes>"
      ]
     },
     "metadata": {
      "needs_background": "light"
     },
     "output_type": "display_data"
    }
   ],
   "source": [
    "# Crear la figura y los subgráficos en una sola fila\n",
    "fig, axes = plt.subplots(1, 3, figsize=(20,4))\n",
    "\n",
    "# Generar los histogramas para cada columna\n",
    "df[att].hist(ax=axes[0])  # Primer histograma\n",
    "axes[0].set_title(f'{att}')\n",
    "\n",
    "df['attLineal'].hist(ax=axes[1])  # Segundo histograma\n",
    "axes[1].set_title('attLineal')\n",
    "\n",
    "df['attNorm'].hist(ax=axes[2])  # Tercer histograma\n",
    "axes[2].set_title('attNorm')\n",
    "\n",
    "# Mostrar la gráfica\n",
    "plt.tight_layout()  # Ajusta el espacio entre los gráficos\n",
    "plt.show()"
   ]
  },
  {
   "cell_type": "code",
   "execution_count": 20,
   "id": "867148a9",
   "metadata": {},
   "outputs": [
    {
     "data": {
      "text/html": [
       "<div>\n",
       "<style scoped>\n",
       "    .dataframe tbody tr th:only-of-type {\n",
       "        vertical-align: middle;\n",
       "    }\n",
       "\n",
       "    .dataframe tbody tr th {\n",
       "        vertical-align: top;\n",
       "    }\n",
       "\n",
       "    .dataframe thead th {\n",
       "        text-align: right;\n",
       "    }\n",
       "</style>\n",
       "<table border=\"1\" class=\"dataframe\">\n",
       "  <thead>\n",
       "    <tr style=\"text-align: right;\">\n",
       "      <th></th>\n",
       "      <th>mpg</th>\n",
       "      <th>displacement</th>\n",
       "      <th>horsepower</th>\n",
       "      <th>weight</th>\n",
       "      <th>acceleration</th>\n",
       "    </tr>\n",
       "  </thead>\n",
       "  <tbody>\n",
       "    <tr>\n",
       "      <th>0</th>\n",
       "      <td>18.0</td>\n",
       "      <td>3070</td>\n",
       "      <td>130.0</td>\n",
       "      <td>3504</td>\n",
       "      <td>120</td>\n",
       "    </tr>\n",
       "    <tr>\n",
       "      <th>1</th>\n",
       "      <td>15.0</td>\n",
       "      <td>3500</td>\n",
       "      <td>165.0</td>\n",
       "      <td>3693</td>\n",
       "      <td>115</td>\n",
       "    </tr>\n",
       "    <tr>\n",
       "      <th>2</th>\n",
       "      <td>18.0</td>\n",
       "      <td>3180</td>\n",
       "      <td>150.0</td>\n",
       "      <td>3436</td>\n",
       "      <td>110</td>\n",
       "    </tr>\n",
       "    <tr>\n",
       "      <th>3</th>\n",
       "      <td>16.0</td>\n",
       "      <td>3040</td>\n",
       "      <td>150.0</td>\n",
       "      <td>3433</td>\n",
       "      <td>120</td>\n",
       "    </tr>\n",
       "    <tr>\n",
       "      <th>4</th>\n",
       "      <td>17.0</td>\n",
       "      <td>3020</td>\n",
       "      <td>140.0</td>\n",
       "      <td>3449</td>\n",
       "      <td>105</td>\n",
       "    </tr>\n",
       "    <tr>\n",
       "      <th>...</th>\n",
       "      <td>...</td>\n",
       "      <td>...</td>\n",
       "      <td>...</td>\n",
       "      <td>...</td>\n",
       "      <td>...</td>\n",
       "    </tr>\n",
       "    <tr>\n",
       "      <th>401</th>\n",
       "      <td>27.0</td>\n",
       "      <td>1400</td>\n",
       "      <td>86.0</td>\n",
       "      <td>2790</td>\n",
       "      <td>156</td>\n",
       "    </tr>\n",
       "    <tr>\n",
       "      <th>402</th>\n",
       "      <td>44.0</td>\n",
       "      <td>9700</td>\n",
       "      <td>52.0</td>\n",
       "      <td>2130</td>\n",
       "      <td>246</td>\n",
       "    </tr>\n",
       "    <tr>\n",
       "      <th>403</th>\n",
       "      <td>32.0</td>\n",
       "      <td>1350</td>\n",
       "      <td>84.0</td>\n",
       "      <td>2295</td>\n",
       "      <td>116</td>\n",
       "    </tr>\n",
       "    <tr>\n",
       "      <th>404</th>\n",
       "      <td>28.0</td>\n",
       "      <td>1200</td>\n",
       "      <td>79.0</td>\n",
       "      <td>2625</td>\n",
       "      <td>186</td>\n",
       "    </tr>\n",
       "    <tr>\n",
       "      <th>405</th>\n",
       "      <td>31.0</td>\n",
       "      <td>1190</td>\n",
       "      <td>82.0</td>\n",
       "      <td>2720</td>\n",
       "      <td>194</td>\n",
       "    </tr>\n",
       "  </tbody>\n",
       "</table>\n",
       "<p>406 rows × 5 columns</p>\n",
       "</div>"
      ],
      "text/plain": [
       "      mpg  displacement  horsepower  weight  acceleration\n",
       "0    18.0          3070       130.0    3504           120\n",
       "1    15.0          3500       165.0    3693           115\n",
       "2    18.0          3180       150.0    3436           110\n",
       "3    16.0          3040       150.0    3433           120\n",
       "4    17.0          3020       140.0    3449           105\n",
       "..    ...           ...         ...     ...           ...\n",
       "401  27.0          1400        86.0    2790           156\n",
       "402  44.0          9700        52.0    2130           246\n",
       "403  32.0          1350        84.0    2295           116\n",
       "404  28.0          1200        79.0    2625           186\n",
       "405  31.0          1190        82.0    2720           194\n",
       "\n",
       "[406 rows x 5 columns]"
      ]
     },
     "execution_count": 20,
     "metadata": {},
     "output_type": "execute_result"
    }
   ],
   "source": [
    "# -- elegimos algunas columnas numéricas\n",
    "\n",
    "seleccion = df[[\"mpg\",\"displacement\",\"horsepower\",\"weight\",\"acceleration\"]]\n",
    "seleccion"
   ]
  },
  {
   "cell_type": "markdown",
   "id": "1a7ba9c4",
   "metadata": {},
   "source": [
    "### Normalización lineal de los atributos seleccionados"
   ]
  },
  {
   "cell_type": "code",
   "execution_count": 21,
   "id": "a60ccd2e",
   "metadata": {},
   "outputs": [
    {
     "data": {
      "text/html": [
       "<div>\n",
       "<style scoped>\n",
       "    .dataframe tbody tr th:only-of-type {\n",
       "        vertical-align: middle;\n",
       "    }\n",
       "\n",
       "    .dataframe tbody tr th {\n",
       "        vertical-align: top;\n",
       "    }\n",
       "\n",
       "    .dataframe thead th {\n",
       "        text-align: right;\n",
       "    }\n",
       "</style>\n",
       "<table border=\"1\" class=\"dataframe\">\n",
       "  <thead>\n",
       "    <tr style=\"text-align: right;\">\n",
       "      <th></th>\n",
       "      <th>mpg</th>\n",
       "      <th>displacement</th>\n",
       "      <th>horsepower</th>\n",
       "      <th>weight</th>\n",
       "      <th>acceleration</th>\n",
       "    </tr>\n",
       "  </thead>\n",
       "  <tbody>\n",
       "    <tr>\n",
       "      <th>0</th>\n",
       "      <td>0.239</td>\n",
       "      <td>0.235</td>\n",
       "      <td>0.457</td>\n",
       "      <td>0.536</td>\n",
       "      <td>0.046</td>\n",
       "    </tr>\n",
       "    <tr>\n",
       "      <th>1</th>\n",
       "      <td>0.160</td>\n",
       "      <td>0.284</td>\n",
       "      <td>0.647</td>\n",
       "      <td>0.590</td>\n",
       "      <td>0.040</td>\n",
       "    </tr>\n",
       "    <tr>\n",
       "      <th>2</th>\n",
       "      <td>0.239</td>\n",
       "      <td>0.248</td>\n",
       "      <td>0.565</td>\n",
       "      <td>0.517</td>\n",
       "      <td>0.034</td>\n",
       "    </tr>\n",
       "    <tr>\n",
       "      <th>3</th>\n",
       "      <td>0.186</td>\n",
       "      <td>0.232</td>\n",
       "      <td>0.565</td>\n",
       "      <td>0.516</td>\n",
       "      <td>0.046</td>\n",
       "    </tr>\n",
       "    <tr>\n",
       "      <th>4</th>\n",
       "      <td>0.213</td>\n",
       "      <td>0.230</td>\n",
       "      <td>0.511</td>\n",
       "      <td>0.521</td>\n",
       "      <td>0.029</td>\n",
       "    </tr>\n",
       "    <tr>\n",
       "      <th>...</th>\n",
       "      <td>...</td>\n",
       "      <td>...</td>\n",
       "      <td>...</td>\n",
       "      <td>...</td>\n",
       "      <td>...</td>\n",
       "    </tr>\n",
       "    <tr>\n",
       "      <th>401</th>\n",
       "      <td>0.479</td>\n",
       "      <td>0.045</td>\n",
       "      <td>0.217</td>\n",
       "      <td>0.334</td>\n",
       "      <td>0.087</td>\n",
       "    </tr>\n",
       "    <tr>\n",
       "      <th>402</th>\n",
       "      <td>0.931</td>\n",
       "      <td>0.989</td>\n",
       "      <td>0.033</td>\n",
       "      <td>0.147</td>\n",
       "      <td>0.191</td>\n",
       "    </tr>\n",
       "    <tr>\n",
       "      <th>403</th>\n",
       "      <td>0.612</td>\n",
       "      <td>0.040</td>\n",
       "      <td>0.207</td>\n",
       "      <td>0.193</td>\n",
       "      <td>0.041</td>\n",
       "    </tr>\n",
       "    <tr>\n",
       "      <th>404</th>\n",
       "      <td>0.505</td>\n",
       "      <td>0.023</td>\n",
       "      <td>0.179</td>\n",
       "      <td>0.287</td>\n",
       "      <td>0.122</td>\n",
       "    </tr>\n",
       "    <tr>\n",
       "      <th>405</th>\n",
       "      <td>0.585</td>\n",
       "      <td>0.022</td>\n",
       "      <td>0.196</td>\n",
       "      <td>0.314</td>\n",
       "      <td>0.131</td>\n",
       "    </tr>\n",
       "  </tbody>\n",
       "</table>\n",
       "<p>406 rows × 5 columns</p>\n",
       "</div>"
      ],
      "text/plain": [
       "       mpg  displacement  horsepower  weight  acceleration\n",
       "0    0.239         0.235       0.457   0.536         0.046\n",
       "1    0.160         0.284       0.647   0.590         0.040\n",
       "2    0.239         0.248       0.565   0.517         0.034\n",
       "3    0.186         0.232       0.565   0.516         0.046\n",
       "4    0.213         0.230       0.511   0.521         0.029\n",
       "..     ...           ...         ...     ...           ...\n",
       "401  0.479         0.045       0.217   0.334         0.087\n",
       "402  0.931         0.989       0.033   0.147         0.191\n",
       "403  0.612         0.040       0.207   0.193         0.041\n",
       "404  0.505         0.023       0.179   0.287         0.122\n",
       "405  0.585         0.022       0.196   0.314         0.131\n",
       "\n",
       "[406 rows x 5 columns]"
      ]
     },
     "execution_count": 21,
     "metadata": {},
     "output_type": "execute_result"
    }
   ],
   "source": [
    "mini = seleccion.min()\n",
    "maxi = seleccion.max()\n",
    "seleccionNormLineal= (seleccion-mini)/(maxi-mini)\n",
    "round(seleccionNormLineal,3)"
   ]
  },
  {
   "cell_type": "markdown",
   "id": "6564bde9",
   "metadata": {},
   "source": [
    "### Normalización de los atributos seleccionados utilizando media y desvío"
   ]
  },
  {
   "cell_type": "code",
   "execution_count": 22,
   "id": "e5283a71",
   "metadata": {},
   "outputs": [
    {
     "data": {
      "text/html": [
       "<div>\n",
       "<style scoped>\n",
       "    .dataframe tbody tr th:only-of-type {\n",
       "        vertical-align: middle;\n",
       "    }\n",
       "\n",
       "    .dataframe tbody tr th {\n",
       "        vertical-align: top;\n",
       "    }\n",
       "\n",
       "    .dataframe thead th {\n",
       "        text-align: right;\n",
       "    }\n",
       "</style>\n",
       "<table border=\"1\" class=\"dataframe\">\n",
       "  <thead>\n",
       "    <tr style=\"text-align: right;\">\n",
       "      <th></th>\n",
       "      <th>mpg</th>\n",
       "      <th>displacement</th>\n",
       "      <th>horsepower</th>\n",
       "      <th>weight</th>\n",
       "      <th>acceleration</th>\n",
       "    </tr>\n",
       "  </thead>\n",
       "  <tbody>\n",
       "    <tr>\n",
       "      <th>0</th>\n",
       "      <td>-0.713</td>\n",
       "      <td>-0.275</td>\n",
       "      <td>0.659</td>\n",
       "      <td>0.619</td>\n",
       "      <td>-0.772</td>\n",
       "    </tr>\n",
       "    <tr>\n",
       "      <th>1</th>\n",
       "      <td>-1.100</td>\n",
       "      <td>-0.133</td>\n",
       "      <td>1.553</td>\n",
       "      <td>0.842</td>\n",
       "      <td>-0.876</td>\n",
       "    </tr>\n",
       "    <tr>\n",
       "      <th>2</th>\n",
       "      <td>-0.713</td>\n",
       "      <td>-0.239</td>\n",
       "      <td>1.170</td>\n",
       "      <td>0.539</td>\n",
       "      <td>-0.979</td>\n",
       "    </tr>\n",
       "    <tr>\n",
       "      <th>3</th>\n",
       "      <td>-0.971</td>\n",
       "      <td>-0.285</td>\n",
       "      <td>1.170</td>\n",
       "      <td>0.536</td>\n",
       "      <td>-0.772</td>\n",
       "    </tr>\n",
       "    <tr>\n",
       "      <th>4</th>\n",
       "      <td>-0.842</td>\n",
       "      <td>-0.291</td>\n",
       "      <td>0.914</td>\n",
       "      <td>0.554</td>\n",
       "      <td>-1.083</td>\n",
       "    </tr>\n",
       "    <tr>\n",
       "      <th>...</th>\n",
       "      <td>...</td>\n",
       "      <td>...</td>\n",
       "      <td>...</td>\n",
       "      <td>...</td>\n",
       "      <td>...</td>\n",
       "    </tr>\n",
       "    <tr>\n",
       "      <th>401</th>\n",
       "      <td>0.450</td>\n",
       "      <td>-0.825</td>\n",
       "      <td>-0.465</td>\n",
       "      <td>-0.224</td>\n",
       "      <td>-0.027</td>\n",
       "    </tr>\n",
       "    <tr>\n",
       "      <th>402</th>\n",
       "      <td>2.647</td>\n",
       "      <td>1.910</td>\n",
       "      <td>-1.334</td>\n",
       "      <td>-1.003</td>\n",
       "      <td>1.837</td>\n",
       "    </tr>\n",
       "    <tr>\n",
       "      <th>403</th>\n",
       "      <td>1.097</td>\n",
       "      <td>-0.841</td>\n",
       "      <td>-0.516</td>\n",
       "      <td>-0.808</td>\n",
       "      <td>-0.855</td>\n",
       "    </tr>\n",
       "    <tr>\n",
       "      <th>404</th>\n",
       "      <td>0.580</td>\n",
       "      <td>-0.891</td>\n",
       "      <td>-0.644</td>\n",
       "      <td>-0.418</td>\n",
       "      <td>0.594</td>\n",
       "    </tr>\n",
       "    <tr>\n",
       "      <th>405</th>\n",
       "      <td>0.967</td>\n",
       "      <td>-0.894</td>\n",
       "      <td>-0.567</td>\n",
       "      <td>-0.306</td>\n",
       "      <td>0.760</td>\n",
       "    </tr>\n",
       "  </tbody>\n",
       "</table>\n",
       "<p>406 rows × 5 columns</p>\n",
       "</div>"
      ],
      "text/plain": [
       "       mpg  displacement  horsepower  weight  acceleration\n",
       "0   -0.713        -0.275       0.659   0.619        -0.772\n",
       "1   -1.100        -0.133       1.553   0.842        -0.876\n",
       "2   -0.713        -0.239       1.170   0.539        -0.979\n",
       "3   -0.971        -0.285       1.170   0.536        -0.772\n",
       "4   -0.842        -0.291       0.914   0.554        -1.083\n",
       "..     ...           ...         ...     ...           ...\n",
       "401  0.450        -0.825      -0.465  -0.224        -0.027\n",
       "402  2.647         1.910      -1.334  -1.003         1.837\n",
       "403  1.097        -0.841      -0.516  -0.808        -0.855\n",
       "404  0.580        -0.891      -0.644  -0.418         0.594\n",
       "405  0.967        -0.894      -0.567  -0.306         0.760\n",
       "\n",
       "[406 rows x 5 columns]"
      ]
     },
     "execution_count": 22,
     "metadata": {},
     "output_type": "execute_result"
    }
   ],
   "source": [
    "media = seleccion.mean()\n",
    "desvio = seleccion.std()\n",
    "seleccionNorm= (seleccion-media)/desvio\n",
    "round(seleccionNorm,3)"
   ]
  }
 ],
 "metadata": {
  "kernelspec": {
   "display_name": "Python 3",
   "language": "python",
   "name": "python3"
  },
  "language_info": {
   "codemirror_mode": {
    "name": "ipython",
    "version": 3
   },
   "file_extension": ".py",
   "mimetype": "text/x-python",
   "name": "python",
   "nbconvert_exporter": "python",
   "pygments_lexer": "ipython3",
   "version": "3.8.8"
  }
 },
 "nbformat": 4,
 "nbformat_minor": 5
}

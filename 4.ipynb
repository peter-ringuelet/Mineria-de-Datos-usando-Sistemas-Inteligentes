{
 "cells": [
  {
   "cell_type": "markdown",
   "metadata": {},
   "source": [
    "### **Ej 4 Estrellas**"
   ]
  },
  {
   "cell_type": "markdown",
   "metadata": {},
   "source": [
    "## Importo librerias y defino df "
   ]
  },
  {
   "cell_type": "code",
   "execution_count": 30,
   "metadata": {},
   "outputs": [],
   "source": [
    "DATOS_DIR = 'C:/Users/Peter/Desktop/all/Facu/Mineria De Datos Usando Sistemas Inteligentes/Datos/'          # carpeta donde se encuentran los datasets"
   ]
  },
  {
   "cell_type": "code",
   "execution_count": 31,
   "metadata": {},
   "outputs": [],
   "source": [
    "import pandas as pd\n",
    "import numpy as np\n",
    "import matplotlib.pyplot as plt"
   ]
  },
  {
   "cell_type": "code",
   "execution_count": 45,
   "metadata": {},
   "outputs": [
    {
     "data": {
      "text/html": [
       "<div>\n",
       "<style scoped>\n",
       "    .dataframe tbody tr th:only-of-type {\n",
       "        vertical-align: middle;\n",
       "    }\n",
       "\n",
       "    .dataframe tbody tr th {\n",
       "        vertical-align: top;\n",
       "    }\n",
       "\n",
       "    .dataframe thead th {\n",
       "        text-align: right;\n",
       "    }\n",
       "</style>\n",
       "<table border=\"1\" class=\"dataframe\">\n",
       "  <thead>\n",
       "    <tr style=\"text-align: right;\">\n",
       "      <th></th>\n",
       "      <th>Edad</th>\n",
       "      <th>Temperatura</th>\n",
       "      <th>clase</th>\n",
       "    </tr>\n",
       "  </thead>\n",
       "  <tbody>\n",
       "    <tr>\n",
       "      <th>0</th>\n",
       "      <td>10</td>\n",
       "      <td>6200</td>\n",
       "      <td>0</td>\n",
       "    </tr>\n",
       "    <tr>\n",
       "      <th>1</th>\n",
       "      <td>14</td>\n",
       "      <td>3000</td>\n",
       "      <td>0</td>\n",
       "    </tr>\n",
       "    <tr>\n",
       "      <th>2</th>\n",
       "      <td>-155</td>\n",
       "      <td>6600</td>\n",
       "      <td>0</td>\n",
       "    </tr>\n",
       "    <tr>\n",
       "      <th>3</th>\n",
       "      <td>-60</td>\n",
       "      <td>3450</td>\n",
       "      <td>0</td>\n",
       "    </tr>\n",
       "    <tr>\n",
       "      <th>4</th>\n",
       "      <td>120</td>\n",
       "      <td>6100</td>\n",
       "      <td>0</td>\n",
       "    </tr>\n",
       "    <tr>\n",
       "      <th>5</th>\n",
       "      <td>-300</td>\n",
       "      <td>2500</td>\n",
       "      <td>0</td>\n",
       "    </tr>\n",
       "    <tr>\n",
       "      <th>6</th>\n",
       "      <td>16</td>\n",
       "      <td>1400</td>\n",
       "      <td>1</td>\n",
       "    </tr>\n",
       "    <tr>\n",
       "      <th>7</th>\n",
       "      <td>-10</td>\n",
       "      <td>2300</td>\n",
       "      <td>1</td>\n",
       "    </tr>\n",
       "    <tr>\n",
       "      <th>8</th>\n",
       "      <td>-32</td>\n",
       "      <td>1900</td>\n",
       "      <td>1</td>\n",
       "    </tr>\n",
       "    <tr>\n",
       "      <th>9</th>\n",
       "      <td>2</td>\n",
       "      <td>6600</td>\n",
       "      <td>1</td>\n",
       "    </tr>\n",
       "    <tr>\n",
       "      <th>10</th>\n",
       "      <td>-1</td>\n",
       "      <td>3000</td>\n",
       "      <td>1</td>\n",
       "    </tr>\n",
       "    <tr>\n",
       "      <th>11</th>\n",
       "      <td>-7</td>\n",
       "      <td>7500</td>\n",
       "      <td>1</td>\n",
       "    </tr>\n",
       "    <tr>\n",
       "      <th>12</th>\n",
       "      <td>-25</td>\n",
       "      <td>1500</td>\n",
       "      <td>1</td>\n",
       "    </tr>\n",
       "  </tbody>\n",
       "</table>\n",
       "</div>"
      ],
      "text/plain": [
       "    Edad  Temperatura   clase \n",
       "0     10         6200        0\n",
       "1     14         3000        0\n",
       "2   -155         6600        0\n",
       "3    -60         3450        0\n",
       "4    120         6100        0\n",
       "5   -300         2500        0\n",
       "6     16         1400        1\n",
       "7    -10         2300        1\n",
       "8    -32         1900        1\n",
       "9      2         6600        1\n",
       "10    -1         3000        1\n",
       "11    -7         7500        1\n",
       "12   -25         1500        1"
      ]
     },
     "execution_count": 45,
     "metadata": {},
     "output_type": "execute_result"
    }
   ],
   "source": [
    "df = pd.read_csv(DATOS_DIR + 'estrellas2023.csv')\n",
    "df"
   ]
  },
  {
   "cell_type": "markdown",
   "metadata": {},
   "source": [
    "## Verifico que no hayan datos faltantes"
   ]
  },
  {
   "cell_type": "code",
   "execution_count": 41,
   "metadata": {},
   "outputs": [
    {
     "data": {
      "text/plain": [
       "0"
      ]
     },
     "execution_count": 41,
     "metadata": {},
     "output_type": "execute_result"
    }
   ],
   "source": [
    "df[\"Edad\"].isnull().sum()"
   ]
  },
  {
   "cell_type": "code",
   "execution_count": 49,
   "metadata": {},
   "outputs": [
    {
     "data": {
      "text/html": [
       "<div>\n",
       "<style scoped>\n",
       "    .dataframe tbody tr th:only-of-type {\n",
       "        vertical-align: middle;\n",
       "    }\n",
       "\n",
       "    .dataframe tbody tr th {\n",
       "        vertical-align: top;\n",
       "    }\n",
       "\n",
       "    .dataframe thead th {\n",
       "        text-align: right;\n",
       "    }\n",
       "</style>\n",
       "<table border=\"1\" class=\"dataframe\">\n",
       "  <thead>\n",
       "    <tr style=\"text-align: right;\">\n",
       "      <th></th>\n",
       "      <th>Edad</th>\n",
       "      <th>Temperatura</th>\n",
       "      <th>clase</th>\n",
       "    </tr>\n",
       "  </thead>\n",
       "  <tbody>\n",
       "    <tr>\n",
       "      <th>count</th>\n",
       "      <td>13.000000</td>\n",
       "      <td>13.000000</td>\n",
       "      <td>13.000000</td>\n",
       "    </tr>\n",
       "    <tr>\n",
       "      <th>mean</th>\n",
       "      <td>-32.923077</td>\n",
       "      <td>4003.846154</td>\n",
       "      <td>0.538462</td>\n",
       "    </tr>\n",
       "    <tr>\n",
       "      <th>std</th>\n",
       "      <td>100.120312</td>\n",
       "      <td>2233.873834</td>\n",
       "      <td>0.518875</td>\n",
       "    </tr>\n",
       "    <tr>\n",
       "      <th>min</th>\n",
       "      <td>-300.000000</td>\n",
       "      <td>1400.000000</td>\n",
       "      <td>0.000000</td>\n",
       "    </tr>\n",
       "    <tr>\n",
       "      <th>25%</th>\n",
       "      <td>-32.000000</td>\n",
       "      <td>2300.000000</td>\n",
       "      <td>0.000000</td>\n",
       "    </tr>\n",
       "    <tr>\n",
       "      <th>50%</th>\n",
       "      <td>-7.000000</td>\n",
       "      <td>3000.000000</td>\n",
       "      <td>1.000000</td>\n",
       "    </tr>\n",
       "    <tr>\n",
       "      <th>75%</th>\n",
       "      <td>10.000000</td>\n",
       "      <td>6200.000000</td>\n",
       "      <td>1.000000</td>\n",
       "    </tr>\n",
       "    <tr>\n",
       "      <th>max</th>\n",
       "      <td>120.000000</td>\n",
       "      <td>7500.000000</td>\n",
       "      <td>1.000000</td>\n",
       "    </tr>\n",
       "  </tbody>\n",
       "</table>\n",
       "</div>"
      ],
      "text/plain": [
       "             Edad  Temperatura     clase \n",
       "count   13.000000    13.000000  13.000000\n",
       "mean   -32.923077  4003.846154   0.538462\n",
       "std    100.120312  2233.873834   0.518875\n",
       "min   -300.000000  1400.000000   0.000000\n",
       "25%    -32.000000  2300.000000   0.000000\n",
       "50%     -7.000000  3000.000000   1.000000\n",
       "75%     10.000000  6200.000000   1.000000\n",
       "max    120.000000  7500.000000   1.000000"
      ]
     },
     "execution_count": 49,
     "metadata": {},
     "output_type": "execute_result"
    }
   ],
   "source": [
    "df.describe()"
   ]
  },
  {
   "cell_type": "markdown",
   "metadata": {},
   "source": [
    "## Defino funcion para hacer un diagrama de barras"
   ]
  },
  {
   "cell_type": "code",
   "execution_count": 34,
   "metadata": {},
   "outputs": [],
   "source": [
    "def diagrama_de_barras(df, columna, titulo):\n",
    "    \"\"\"\n",
    "    Genera un gráfico de barras de la columna especificada del DataFrame.\n",
    "    \n",
    "    Parámetros:\n",
    "        df (DataFrame): El DataFrame que contiene los datos.\n",
    "        columna (str): El nombre de la columna a analizar.\n",
    "    \"\"\"\n",
    "    barras = df[columna].value_counts()\n",
    "    plt.figure()\n",
    "    N = len(barras)\n",
    "    plt.bar(np.arange(N), barras)  # Gráfico de barras\n",
    "    plt.xlabel(columna)\n",
    "    plt.ylabel('Frecuencia')\n",
    "    plt.title(f'{titulo}')\n",
    "    # Colocamos las etiquetas del eje x\n",
    "    plt.xticks(np.arange(N), barras.index)\n",
    "    plt.show()"
   ]
  },
  {
   "cell_type": "markdown",
   "metadata": {},
   "source": [
    "## A - Discretizo por frecuencia"
   ]
  },
  {
   "cell_type": "code",
   "execution_count": 47,
   "metadata": {},
   "outputs": [
    {
     "name": "stdout",
     "output_type": "stream",
     "text": [
      "edad_frecuencia\n",
      "Baja    7\n",
      "Alta    6\n",
      "Name: count, dtype: int64\n",
      "Rangos de los intervalos: [-300.   -7.  120.]\n"
     ]
    },
    {
     "data": {
      "image/png": "[encoded data removed]",
      "text/plain": [
       "<Figure size 640x480 with 1 Axes>"
      ]
     },
     "metadata": {},
     "output_type": "display_data"
    }
   ],
   "source": [
    "etiq = [\"Baja\",\"Alta\"]\n",
    "\n",
    "df['edad_frecuencia'], bins = pd.qcut(df[\"Edad\"], q=len(etiq), labels=etiq, retbins=True)\n",
    "\n",
    "print(df['edad_frecuencia'].value_counts())\n",
    "\n",
    "print(f'Rangos de los intervalos: {bins}')\n",
    "\n",
    "diagrama_de_barras(df,'edad_frecuencia','Discretización por Frecuencia')"
   ]
  },
  {
   "cell_type": "markdown",
   "metadata": {},
   "source": [
    "## B - Discretizo por rango"
   ]
  },
  {
   "cell_type": "code",
   "execution_count": 50,
   "metadata": {},
   "outputs": [
    {
     "name": "stdout",
     "output_type": "stream",
     "text": [
      "edad_rango\n",
      "Alta    11\n",
      "Baja     2\n",
      "Name: count, dtype: int64\n",
      "Rangos de los intervalos: [-300.42  -90.    120.  ]\n"
     ]
    },
    {
     "data": {
      "image/png": "[encoded data removed]",
      "text/plain": [
       "<Figure size 640x480 with 1 Axes>"
      ]
     },
     "metadata": {},
     "output_type": "display_data"
    }
   ],
   "source": [
    "etiq = [\"Baja\",\"Alta\"]\n",
    "\n",
    "# Discretización por RANGO\n",
    "df['edad_rango'], bins = pd.cut(df[\"Edad\"],bins=len(etiq),labels=etiq, retbins=True)\n",
    "\n",
    "print(df['edad_rango'].value_counts())\n",
    "\n",
    "print(f'Rangos de los intervalos: {bins}')\n",
    "\n",
    "diagrama_de_barras(df,'edad_rango','Discretización por Rango')"
   ]
  },
  {
   "cell_type": "markdown",
   "metadata": {},
   "source": [
    "## C - Calculo la correlacion lineal entre Edad y Temperatura"
   ]
  },
  {
   "cell_type": "code",
   "execution_count": 11,
   "metadata": {},
   "outputs": [
    {
     "data": {
      "text/html": [
       "<div>\n",
       "<style scoped>\n",
       "    .dataframe tbody tr th:only-of-type {\n",
       "        vertical-align: middle;\n",
       "    }\n",
       "\n",
       "    .dataframe tbody tr th {\n",
       "        vertical-align: top;\n",
       "    }\n",
       "\n",
       "    .dataframe thead th {\n",
       "        text-align: right;\n",
       "    }\n",
       "</style>\n",
       "<table border=\"1\" class=\"dataframe\">\n",
       "  <thead>\n",
       "    <tr style=\"text-align: right;\">\n",
       "      <th></th>\n",
       "      <th>Edad</th>\n",
       "      <th>Temperatura</th>\n",
       "    </tr>\n",
       "  </thead>\n",
       "  <tbody>\n",
       "    <tr>\n",
       "      <th>Edad</th>\n",
       "      <td>1.000000</td>\n",
       "      <td>0.159637</td>\n",
       "    </tr>\n",
       "    <tr>\n",
       "      <th>Temperatura</th>\n",
       "      <td>0.159637</td>\n",
       "      <td>1.000000</td>\n",
       "    </tr>\n",
       "  </tbody>\n",
       "</table>\n",
       "</div>"
      ],
      "text/plain": [
       "                 Edad  Temperatura\n",
       "Edad         1.000000     0.159637\n",
       "Temperatura  0.159637     1.000000"
      ]
     },
     "metadata": {},
     "output_type": "display_data"
    }
   ],
   "source": [
    "# Calculamos la matriz de correlación utilizando algunos atributos numéricos\n",
    "corr_matrix = df[['Edad','Temperatura']].corr()\n",
    "display(corr_matrix)"
   ]
  },
  {
   "cell_type": "markdown",
   "metadata": {},
   "source": [
    "## D - Hago Diagrama de Caja de Tukey y calculo valores"
   ]
  },
  {
   "cell_type": "code",
   "execution_count": 37,
   "metadata": {},
   "outputs": [
    {
     "data": {
      "image/png": "[encoded data removed]",
      "text/plain": [
       "<Figure size 1000x200 with 1 Axes>"
      ]
     },
     "metadata": {},
     "output_type": "display_data"
    }
   ],
   "source": [
    "# Define el tamaño de la figura\n",
    "plt.figure(figsize=(10, 2))\n",
    "\n",
    "# Trama el diagrama de caja\n",
    "df.boxplot(column=['Edad'], vert=False)\n",
    "\n",
    "# Muestra el diagrama de caja\n",
    "plt.show()"
   ]
  },
  {
   "cell_type": "code",
   "execution_count": 57,
   "metadata": {},
   "outputs": [
    {
     "name": "stdout",
     "output_type": "stream",
     "text": [
      "\n",
      "Mediana =  -7.0 \n",
      "Q1 =  -32.0 \n",
      "Q3 =  10.0\n",
      "Rango Intercuartilico =  42.0\n",
      "Bigote superior: 73.0\n",
      "Bigote inferior: -95.0\n",
      "Intervalo de atípicos leves: [-158.0, 136.0]\n",
      "Valores de atípicos leves: [-155, 120]\n",
      "Intervalo de atípicos extremos: [-221.0, 199.0]\n",
      "Valores de atípicos extremos: [-300]\n"
     ]
    }
   ],
   "source": [
    "# Extraemos los cuartiles y mediana (Q2 = mediana)\n",
    "desc = df[\"Edad\"].describe()\n",
    "Q1 = desc['25%']\n",
    "Q2 = desc['50%']\n",
    "Q3 = desc['75%']\n",
    "\n",
    "# Calculamos el IQR\n",
    "IQR = Q3 - Q1\n",
    "\n",
    "# Calculamos los bigotes\n",
    "b_inf = Q1 - 1.5 * IQR\n",
    "b_sup = Q3 + 1.5 * IQR\n",
    "\n",
    "# Calculamos los intervalos de atípicos\n",
    "atip_lev_inf = Q1 - 3 * IQR\n",
    "atip_lev_sup = Q3 + 3 * IQR\n",
    "atip_ext_inf = Q1 - 4.5 * IQR\n",
    "atip_ext_sup = Q3 + 4.5 * IQR\n",
    "\n",
    "# Identificamos valores atípicos\n",
    "atipicos_leves = df[\n",
    "    ((df[\"Edad\"] < b_inf) & (df[\"Edad\"] >= atip_ext_inf)) |\n",
    "    ((df[\"Edad\"] > b_sup) & (df[\"Edad\"] <= atip_ext_sup))\n",
    "][\"Edad\"].to_list()\n",
    "\n",
    "atipicos_extremos = df[\n",
    "    (df[\"Edad\"] < atip_ext_inf) | \n",
    "    (df[\"Edad\"] > atip_ext_sup)\n",
    "][\"Edad\"].to_list()\n",
    "\n",
    "# Imprimimos los resultados\n",
    "print(\"\\nMediana = \", Q2,\"\\nQ1 = \", Q1,\"\\nQ3 = \", Q3)\n",
    "print(\"Rango Intercuartilico = \", IQR)\n",
    "print(f'Bigote superior: {b_sup}')\n",
    "print(f'Bigote inferior: {b_inf}')\n",
    "\n",
    "print(f'Intervalo de atípicos leves: [{atip_lev_inf}, {atip_lev_sup}]')\n",
    "print(f'Valores de atípicos leves: {atipicos_leves}')\n",
    "\n",
    "print(f'Intervalo de atípicos extremos: [{atip_ext_inf}, {atip_ext_sup}]')\n",
    "print(f'Valores de atípicos extremos: {atipicos_extremos}')\n"
   ]
  }
 ],
 "metadata": {
  "kernelspec": {
   "display_name": "Python 3",
   "language": "python",
   "name": "python3"
  },
  "language_info": {
   "codemirror_mode": {
    "name": "ipython",
    "version": 3
   },
   "file_extension": ".py",
   "mimetype": "text/x-python",
   "name": "python",
   "nbconvert_exporter": "python",
   "pygments_lexer": "ipython3",
   "version": "3.9.13"
  }
 },
 "nbformat": 4,
 "nbformat_minor": 2
}

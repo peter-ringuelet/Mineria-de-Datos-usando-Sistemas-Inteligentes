{
 "cells": [
  {
   "cell_type": "markdown",
   "id": "7bbbd759-67f2-487c-84a0-ec792894e3c2",
   "metadata": {},
   "source": [
    "### Jupyter Notebooks y Google Colab\n",
    "\r\n",
    "Jupyter Notebooks y Google Colab son herramientas similares (la segunda está basada en la primera). La diferencia más importante es que Jupyter NB permite trabajar off-line al instalarse de forma local (ej: con Anaconda) mientras que Colab permite trabajar on-line al alojarse en los servidores de Google Cloud. A manera de introducción pude ver los siguientes videos donde se muestra el funcionamiento básico de los entornos:\n",
    "\n",
    "https://www.youtube.com/watch?v=8VFYs3Ot_aA\n",
    "\n",
    "https://www.youtube.com/watch?v=KajSbrEBZ5kZ5k\r\n"
   ]
  },
  {
   "cell_type": "code",
   "execution_count": 2,
   "id": "9c8f47b0",
   "metadata": {},
   "outputs": [],
   "source": [
    "ColabNotebook = 'google.colab' in str(get_ipython())\n",
    "\n",
    "if ColabNotebook:\n",
    "    # monta Google drive en entorno COLAB\n",
    "    from google.colab import drive\n",
    "    drive.mount('/content/drive/')\n",
    "    \n",
    "    DATOS_DIR = '/content/drive/MyDrive/DATOS/'      # carpeta donde se encuentran los datasets\n",
    "else:\n",
    "    # configuración para notebook con instalación LOCAL\n",
    "    DATOS_DIR = '../MIDUSI - Teoria/Datos/'          # carpeta donde se encuentran los datasets\n",
    "  "
   ]
  },
  {
   "cell_type": "markdown",
   "id": "70cfae07",
   "metadata": {},
   "source": [
    "Importamos las librerías"
   ]
  },
  {
   "cell_type": "code",
   "execution_count": 4,
   "id": "c6130439",
   "metadata": {},
   "outputs": [],
   "source": [
    "import pandas as pd\n",
    "import numpy as np\n",
    "import matplotlib.pyplot as plt\n",
    "import seaborn as sns"
   ]
  },
  {
   "cell_type": "markdown",
   "id": "15965349-b9bd-4310-86f7-bbee5a433527",
   "metadata": {},
   "source": [
    "### Accediendo a los datos"
   ]
  },
  {
   "cell_type": "code",
   "execution_count": 6,
   "id": "c7987cbd",
   "metadata": {},
   "outputs": [
    {
     "data": {
      "text/html": [
       "<div>\n",
       "<style scoped>\n",
       "    .dataframe tbody tr th:only-of-type {\n",
       "        vertical-align: middle;\n",
       "    }\n",
       "\n",
       "    .dataframe tbody tr th {\n",
       "        vertical-align: top;\n",
       "    }\n",
       "\n",
       "    .dataframe thead th {\n",
       "        text-align: right;\n",
       "    }\n",
       "</style>\n",
       "<table border=\"1\" class=\"dataframe\">\n",
       "  <thead>\n",
       "    <tr style=\"text-align: right;\">\n",
       "      <th></th>\n",
       "      <th>mpg</th>\n",
       "      <th>cylinders</th>\n",
       "      <th>displacement</th>\n",
       "      <th>horsepower</th>\n",
       "      <th>weight</th>\n",
       "      <th>acceleration</th>\n",
       "      <th>model_year</th>\n",
       "      <th>origin</th>\n",
       "      <th>car_name</th>\n",
       "    </tr>\n",
       "  </thead>\n",
       "  <tbody>\n",
       "    <tr>\n",
       "      <th>0</th>\n",
       "      <td>18.0</td>\n",
       "      <td>ocho</td>\n",
       "      <td>3070</td>\n",
       "      <td>130.0</td>\n",
       "      <td>3504</td>\n",
       "      <td>120</td>\n",
       "      <td>70</td>\n",
       "      <td>1</td>\n",
       "      <td>chevrolet chevelle malibu</td>\n",
       "    </tr>\n",
       "    <tr>\n",
       "      <th>1</th>\n",
       "      <td>15.0</td>\n",
       "      <td>ocho</td>\n",
       "      <td>3500</td>\n",
       "      <td>165.0</td>\n",
       "      <td>3693</td>\n",
       "      <td>115</td>\n",
       "      <td>70</td>\n",
       "      <td>1</td>\n",
       "      <td>buick skylark 320</td>\n",
       "    </tr>\n",
       "    <tr>\n",
       "      <th>2</th>\n",
       "      <td>18.0</td>\n",
       "      <td>ocho</td>\n",
       "      <td>3180</td>\n",
       "      <td>150.0</td>\n",
       "      <td>3436</td>\n",
       "      <td>110</td>\n",
       "      <td>70</td>\n",
       "      <td>1</td>\n",
       "      <td>plymouth satellite</td>\n",
       "    </tr>\n",
       "    <tr>\n",
       "      <th>3</th>\n",
       "      <td>16.0</td>\n",
       "      <td>ocho</td>\n",
       "      <td>3040</td>\n",
       "      <td>150.0</td>\n",
       "      <td>3433</td>\n",
       "      <td>120</td>\n",
       "      <td>70</td>\n",
       "      <td>1</td>\n",
       "      <td>amc rebel sst</td>\n",
       "    </tr>\n",
       "    <tr>\n",
       "      <th>4</th>\n",
       "      <td>17.0</td>\n",
       "      <td>ocho</td>\n",
       "      <td>3020</td>\n",
       "      <td>140.0</td>\n",
       "      <td>3449</td>\n",
       "      <td>105</td>\n",
       "      <td>70</td>\n",
       "      <td>1</td>\n",
       "      <td>ford torino</td>\n",
       "    </tr>\n",
       "  </tbody>\n",
       "</table>\n",
       "</div>"
      ],
      "text/plain": [
       "    mpg cylinders  displacement  horsepower  weight  acceleration  model_year  \\\n",
       "0  18.0      ocho          3070       130.0    3504           120          70   \n",
       "1  15.0      ocho          3500       165.0    3693           115          70   \n",
       "2  18.0      ocho          3180       150.0    3436           110          70   \n",
       "3  16.0      ocho          3040       150.0    3433           120          70   \n",
       "4  17.0      ocho          3020       140.0    3449           105          70   \n",
       "\n",
       "   origin                   car_name  \n",
       "0       1  chevrolet chevelle malibu  \n",
       "1       1          buick skylark 320  \n",
       "2       1         plymouth satellite  \n",
       "3       1              amc rebel sst  \n",
       "4       1                ford torino  "
      ]
     },
     "execution_count": 6,
     "metadata": {},
     "output_type": "execute_result"
    }
   ],
   "source": [
    "datos = pd.read_csv(DATOS_DIR + 'autos-mpg.csv', sep=';')\n",
    "\n",
    "# Primeras 5 filas del dataframe\n",
    "datos.head()"
   ]
  },
  {
   "cell_type": "markdown",
   "id": "ffae2ae5",
   "metadata": {},
   "source": [
    "El método **info()** imprime información sobre el DataFrame. La información contiene el número de columnas, las etiquetas de las columnas, los tipos de datos de las columnas, el uso de la memoria, el índice de rango y el número de celdas en cada columna (valores no nulos)."
   ]
  },
  {
   "cell_type": "code",
   "execution_count": 8,
   "id": "6a351d38",
   "metadata": {},
   "outputs": [
    {
     "name": "stdout",
     "output_type": "stream",
     "text": [
      "<class 'pandas.core.frame.DataFrame'>\n",
      "RangeIndex: 406 entries, 0 to 405\n",
      "Data columns (total 9 columns):\n",
      " #   Column        Non-Null Count  Dtype  \n",
      "---  ------        --------------  -----  \n",
      " 0   mpg           398 non-null    float64\n",
      " 1   cylinders     406 non-null    object \n",
      " 2   displacement  406 non-null    int64  \n",
      " 3   horsepower    400 non-null    float64\n",
      " 4   weight        406 non-null    int64  \n",
      " 5   acceleration  406 non-null    int64  \n",
      " 6   model_year    406 non-null    int64  \n",
      " 7   origin        406 non-null    int64  \n",
      " 8   car_name      406 non-null    object \n",
      "dtypes: float64(2), int64(5), object(2)\n",
      "memory usage: 28.7+ KB\n",
      "None\n",
      "\n",
      "\n"
     ]
    }
   ],
   "source": [
    "print(datos.info())\n",
    "print('\\n')"
   ]
  },
  {
   "attachments": {},
   "cell_type": "markdown",
   "id": "10e38bc3-c241-42bc-a59d-9d57cf9ee079",
   "metadata": {},
   "source": [
    "El atributo **origin** indica el país de fabricación del vehiculo: 1-USA, 2-Europa, 3-Japón. \n",
    "El método **value_counts()** indica la cantidad de autos que hay de cada tipo. Como puede verse la mayoría fue fabricado en USA."
   ]
  },
  {
   "cell_type": "code",
   "execution_count": 10,
   "id": "fb237558-1594-4309-903c-6156c4952eef",
   "metadata": {},
   "outputs": [
    {
     "data": {
      "text/plain": [
       "origin\n",
       "1    254\n",
       "3     79\n",
       "2     73\n",
       "Name: count, dtype: int64"
      ]
     },
     "execution_count": 10,
     "metadata": {},
     "output_type": "execute_result"
    }
   ],
   "source": [
    "datos[\"origin\"].value_counts()\n"
   ]
  },
  {
   "cell_type": "code",
   "execution_count": 11,
   "id": "d7e99083",
   "metadata": {},
   "outputs": [
    {
     "data": {
      "text/html": [
       "<div>\n",
       "<style scoped>\n",
       "    .dataframe tbody tr th:only-of-type {\n",
       "        vertical-align: middle;\n",
       "    }\n",
       "\n",
       "    .dataframe tbody tr th {\n",
       "        vertical-align: top;\n",
       "    }\n",
       "\n",
       "    .dataframe thead th {\n",
       "        text-align: right;\n",
       "    }\n",
       "</style>\n",
       "<table border=\"1\" class=\"dataframe\">\n",
       "  <thead>\n",
       "    <tr style=\"text-align: right;\">\n",
       "      <th></th>\n",
       "      <th>mpg</th>\n",
       "      <th>displacement</th>\n",
       "      <th>horsepower</th>\n",
       "      <th>weight</th>\n",
       "      <th>acceleration</th>\n",
       "      <th>model_year</th>\n",
       "      <th>origin</th>\n",
       "    </tr>\n",
       "  </thead>\n",
       "  <tbody>\n",
       "    <tr>\n",
       "      <th>count</th>\n",
       "      <td>398.000000</td>\n",
       "      <td>406.000000</td>\n",
       "      <td>400.000000</td>\n",
       "      <td>406.000000</td>\n",
       "      <td>406.000000</td>\n",
       "      <td>406.000000</td>\n",
       "      <td>406.000000</td>\n",
       "    </tr>\n",
       "    <tr>\n",
       "      <th>mean</th>\n",
       "      <td>23.514573</td>\n",
       "      <td>3903.965517</td>\n",
       "      <td>105.082500</td>\n",
       "      <td>2979.413793</td>\n",
       "      <td>157.302956</td>\n",
       "      <td>75.921182</td>\n",
       "      <td>1.568966</td>\n",
       "    </tr>\n",
       "    <tr>\n",
       "      <th>std</th>\n",
       "      <td>7.815984</td>\n",
       "      <td>3035.047751</td>\n",
       "      <td>38.768779</td>\n",
       "      <td>847.004328</td>\n",
       "      <td>48.293591</td>\n",
       "      <td>3.748737</td>\n",
       "      <td>0.797479</td>\n",
       "    </tr>\n",
       "    <tr>\n",
       "      <th>min</th>\n",
       "      <td>9.000000</td>\n",
       "      <td>1000.000000</td>\n",
       "      <td>46.000000</td>\n",
       "      <td>1613.000000</td>\n",
       "      <td>80.000000</td>\n",
       "      <td>70.000000</td>\n",
       "      <td>1.000000</td>\n",
       "    </tr>\n",
       "    <tr>\n",
       "      <th>25%</th>\n",
       "      <td>17.500000</td>\n",
       "      <td>1460.000000</td>\n",
       "      <td>75.750000</td>\n",
       "      <td>2226.500000</td>\n",
       "      <td>137.250000</td>\n",
       "      <td>73.000000</td>\n",
       "      <td>1.000000</td>\n",
       "    </tr>\n",
       "    <tr>\n",
       "      <th>50%</th>\n",
       "      <td>23.000000</td>\n",
       "      <td>2620.000000</td>\n",
       "      <td>95.000000</td>\n",
       "      <td>2822.500000</td>\n",
       "      <td>155.000000</td>\n",
       "      <td>76.000000</td>\n",
       "      <td>1.000000</td>\n",
       "    </tr>\n",
       "    <tr>\n",
       "      <th>75%</th>\n",
       "      <td>29.000000</td>\n",
       "      <td>4505.000000</td>\n",
       "      <td>130.000000</td>\n",
       "      <td>3618.250000</td>\n",
       "      <td>172.000000</td>\n",
       "      <td>79.000000</td>\n",
       "      <td>2.000000</td>\n",
       "    </tr>\n",
       "    <tr>\n",
       "      <th>max</th>\n",
       "      <td>46.600000</td>\n",
       "      <td>9800.000000</td>\n",
       "      <td>230.000000</td>\n",
       "      <td>5140.000000</td>\n",
       "      <td>950.000000</td>\n",
       "      <td>82.000000</td>\n",
       "      <td>3.000000</td>\n",
       "    </tr>\n",
       "  </tbody>\n",
       "</table>\n",
       "</div>"
      ],
      "text/plain": [
       "              mpg  displacement  horsepower       weight  acceleration  \\\n",
       "count  398.000000    406.000000  400.000000   406.000000    406.000000   \n",
       "mean    23.514573   3903.965517  105.082500  2979.413793    157.302956   \n",
       "std      7.815984   3035.047751   38.768779   847.004328     48.293591   \n",
       "min      9.000000   1000.000000   46.000000  1613.000000     80.000000   \n",
       "25%     17.500000   1460.000000   75.750000  2226.500000    137.250000   \n",
       "50%     23.000000   2620.000000   95.000000  2822.500000    155.000000   \n",
       "75%     29.000000   4505.000000  130.000000  3618.250000    172.000000   \n",
       "max     46.600000   9800.000000  230.000000  5140.000000    950.000000   \n",
       "\n",
       "       model_year      origin  \n",
       "count  406.000000  406.000000  \n",
       "mean    75.921182    1.568966  \n",
       "std      3.748737    0.797479  \n",
       "min     70.000000    1.000000  \n",
       "25%     73.000000    1.000000  \n",
       "50%     76.000000    1.000000  \n",
       "75%     79.000000    2.000000  \n",
       "max     82.000000    3.000000  "
      ]
     },
     "execution_count": 11,
     "metadata": {},
     "output_type": "execute_result"
    }
   ],
   "source": [
    "#-- medidas estadísticas de los atributos numéricos --\n",
    "datos.describe()"
   ]
  },
  {
   "cell_type": "code",
   "execution_count": 12,
   "id": "4eddec37-a7fe-4bae-b119-a63d43db8234",
   "metadata": {},
   "outputs": [
    {
     "data": {
      "text/html": [
       "<div>\n",
       "<style scoped>\n",
       "    .dataframe tbody tr th:only-of-type {\n",
       "        vertical-align: middle;\n",
       "    }\n",
       "\n",
       "    .dataframe tbody tr th {\n",
       "        vertical-align: top;\n",
       "    }\n",
       "\n",
       "    .dataframe thead th {\n",
       "        text-align: right;\n",
       "    }\n",
       "</style>\n",
       "<table border=\"1\" class=\"dataframe\">\n",
       "  <thead>\n",
       "    <tr style=\"text-align: right;\">\n",
       "      <th></th>\n",
       "      <th>cylinders</th>\n",
       "      <th>car_name</th>\n",
       "    </tr>\n",
       "  </thead>\n",
       "  <tbody>\n",
       "    <tr>\n",
       "      <th>count</th>\n",
       "      <td>406</td>\n",
       "      <td>406</td>\n",
       "    </tr>\n",
       "    <tr>\n",
       "      <th>unique</th>\n",
       "      <td>5</td>\n",
       "      <td>312</td>\n",
       "    </tr>\n",
       "    <tr>\n",
       "      <th>top</th>\n",
       "      <td>cuatro</td>\n",
       "      <td>ford pinto</td>\n",
       "    </tr>\n",
       "    <tr>\n",
       "      <th>freq</th>\n",
       "      <td>207</td>\n",
       "      <td>6</td>\n",
       "    </tr>\n",
       "  </tbody>\n",
       "</table>\n",
       "</div>"
      ],
      "text/plain": [
       "       cylinders    car_name\n",
       "count        406         406\n",
       "unique         5         312\n",
       "top       cuatro  ford pinto\n",
       "freq         207           6"
      ]
     },
     "execution_count": 12,
     "metadata": {},
     "output_type": "execute_result"
    }
   ],
   "source": [
    "#-- medidas estadísticas de los atributos cualitativos --\n",
    "datos[[\"cylinders\", \"car_name\"]].describe()"
   ]
  },
  {
   "cell_type": "code",
   "execution_count": 13,
   "id": "f731e421-0bd9-493e-a247-f303dd7680e2",
   "metadata": {},
   "outputs": [
    {
     "name": "stdout",
     "output_type": "stream",
     "text": [
      "acceleration 80 950 155.0 145 435.0\n"
     ]
    }
   ],
   "source": [
    "# Analizando un atributo específico\n",
    "col = 'acceleration'\n",
    "min = datos[col].min()\n",
    "max = datos[col].max()\n",
    "median = datos[col].median()\n",
    "mode = datos[col].mode()[0]\n",
    "midrange = (max - min)/2\n",
    "print(col,min, max, median, mode, midrange)"
   ]
  },
  {
   "cell_type": "markdown",
   "id": "e1af787b-b1c9-4f75-9bde-59d2de5d594b",
   "metadata": {},
   "source": [
    "### Calculando medidas de tendencia central"
   ]
  },
  {
   "cell_type": "code",
   "execution_count": 15,
   "id": "53987e5c-7383-473f-8fd1-5531893dc5ab",
   "metadata": {},
   "outputs": [
    {
     "name": "stdout",
     "output_type": "stream",
     "text": [
      "       Atributo     Min     Max  Mediana    Moda  Rango_medio\n",
      "0           mpg     9.0    46.6     23.0    13.0         27.8\n",
      "1  displacement  1000.0  9800.0   2620.0  9700.0       5400.0\n",
      "2    horsepower    46.0   230.0     95.0   150.0        138.0\n",
      "3        weight  1613.0  5140.0   2822.5  1985.0       3376.5\n",
      "4  acceleration    80.0   950.0    155.0   145.0        515.0\n"
     ]
    }
   ],
   "source": [
    "def getCentralTendency(col):\n",
    "    min_val = datos[col].min()\n",
    "    max_val = datos[col].max()\n",
    "    median = datos[col].median()\n",
    "    mode = datos[col].mode()[0] if not datos[col].mode().empty else None\n",
    "    midrange = (max_val + min_val) / 2  # Ajustado para ser el punto medio real\n",
    "\n",
    "    return pd.DataFrame({\n",
    "        \"Atributo\": [col],\n",
    "        \"Min\": [min_val],\n",
    "        \"Max\": [max_val],\n",
    "        \"Mediana\": [median],\n",
    "        \"Moda\": [mode],\n",
    "        \"Rango_medio\": [midrange]\n",
    "    })\n",
    "\n",
    "# Concatenamos los resultados en un solo DataFrame\n",
    "stats_df = pd.concat([getCentralTendency(col) for col in datos.columns[[0,2,3,4,5]]], ignore_index=True)\n",
    "\n",
    "# Mostramos el resultado de forma ordenada\n",
    "print(stats_df)\n"
   ]
  },
  {
   "cell_type": "markdown",
   "id": "4523536e-26e2-49b4-8fda-05d85a34ad43",
   "metadata": {},
   "source": [
    "### Calculando medidas de dispersión"
   ]
  },
  {
   "cell_type": "code",
   "execution_count": 17,
   "id": "7094bde6-08c6-430c-be30-20c60d0d3e94",
   "metadata": {},
   "outputs": [
    {
     "name": "stdout",
     "output_type": "stream",
     "text": [
      "Atributo        Rango      Q1         Q2         Q3         IQR        Varianza             Desv.Std  \n",
      "--------------------------------------------------------------------------------------------------------------\n",
      "displacement    8800       1460.0     2620.0     4505.0     3045.0     9211514.853128998    3035.047751375421\n",
      "horsepower      184.0      75.75      95.0       130.0      54.25      1503.0182393483724   38.76877918310522\n",
      "weight          3527       2226.5     2822.5     3618.25    1391.75    717416.3320561941    847.0043282393509\n",
      "acceleration    870        137.25     155.0      172.0      34.75      2332.270954205434    48.29359123326235\n"
     ]
    }
   ],
   "source": [
    "def getDispersion(col):\n",
    "    range_val = datos[col].max() - datos[col].min()\n",
    "    quantiles = datos[col].quantile([0.25, 0.5, 0.75])\n",
    "    IQR = quantiles[0.75] - quantiles[0.25]\n",
    "    var = datos[col].var()\n",
    "    std = datos[col].std()\n",
    "\n",
    "    print(f\"{col.ljust(15)} {str(range_val).ljust(10)} {str(quantiles[0.25]).ljust(10)} {str(quantiles[0.5]).ljust(10)} \"\n",
    "          f\"{str(quantiles[0.75]).ljust(10)} {str(IQR).ljust(10)} {str(var).ljust(20)} {str(std).ljust(10)}\")\n",
    "\n",
    "# Imprimir encabezados\n",
    "print(f\"{'Atributo'.ljust(15)} {'Rango'.ljust(10)} {'Q1'.ljust(10)} {'Q2'.ljust(10)} {'Q3'.ljust(10)} {'IQR'.ljust(10)} {'Varianza'.ljust(20)} {'Desv.Std'.ljust(10)}\")\n",
    "print(\"-\" * 110)  # Línea separadora\n",
    "\n",
    "# Recorrer las columnas e imprimir valores en formato tabular\n",
    "for col in datos.columns[2:6]:\n",
    "    getDispersion(col)\n"
   ]
  },
  {
   "cell_type": "markdown",
   "id": "faf5d0fa-ae82-4b0d-a70b-b38c319606da",
   "metadata": {},
   "source": [
    "### Representaciones gráficas"
   ]
  },
  {
   "cell_type": "code",
   "execution_count": 19,
   "id": "87289b79-7c69-4f64-a5db-12c09e16b400",
   "metadata": {},
   "outputs": [
    {
     "data": {
      "text/plain": [
       "<Axes: ylabel='Cylinders'>"
      ]
     },
     "execution_count": 19,
     "metadata": {},
     "output_type": "execute_result"
    },
    {
     "data": {
      "image/png": "[encoded data removed]",
      "text/plain": [
       "<Figure size 600x400 with 1 Axes>"
      ]
     },
     "metadata": {},
     "output_type": "display_data"
    }
   ],
   "source": [
    "df2 = pd.DataFrame({\"Cylinders\" : datos['cylinders'].value_counts()})\n",
    "df2.plot.pie(y= \"Cylinders\", figsize = (6,4))"
   ]
  },
  {
   "cell_type": "code",
   "execution_count": 20,
   "id": "f79df910-241a-49d3-b0d3-5f21ed8a3321",
   "metadata": {},
   "outputs": [
    {
     "data": {
      "image/png": "[encoded data removed]",
      "text/plain": [
       "<Figure size 600x400 with 1 Axes>"
      ]
     },
     "metadata": {},
     "output_type": "display_data"
    }
   ],
   "source": [
    "df2 = pd.DataFrame({\"Cylinders\": datos['cylinders'].value_counts()})\n",
    "ax = df2.plot.pie(y=\"Cylinders\", figsize=(6, 4), autopct='%1.1f%%', legend=False)\n",
    "\n",
    "# Agregar la leyenda fuera del gráfico\n",
    "plt.legend(title=\"Cylinders\", bbox_to_anchor=(1.05, 0.5), loc=\"center left\")\n",
    "\n",
    "plt.show()"
   ]
  },
  {
   "cell_type": "code",
   "execution_count": 21,
   "id": "4f94dcb4",
   "metadata": {},
   "outputs": [
    {
     "data": {
      "text/plain": [
       "Text(0, 0.5, 'Frecuencia')"
      ]
     },
     "execution_count": 21,
     "metadata": {},
     "output_type": "execute_result"
    },
    {
     "data": {
      "image/png": "[encoded data removed]",
      "text/plain": [
       "<Figure size 500x300 with 1 Axes>"
      ]
     },
     "metadata": {},
     "output_type": "display_data"
    }
   ],
   "source": [
    "#-- histograma del atributo indicado en COL --\n",
    "col = \"acceleration\"\n",
    "plt.figure(figsize = (5,3))\n",
    "plt.hist(datos[col], bins = 100, edgecolor = 'black', \\\n",
    "         linewidth=1)\n",
    "plt.xlabel(col)\n",
    "plt.ylabel('Frecuencia')"
   ]
  },
  {
   "cell_type": "code",
   "execution_count": 22,
   "id": "b966d211-bf6b-4824-956d-38a96b504b3d",
   "metadata": {},
   "outputs": [
    {
     "data": {
      "text/plain": [
       "<Axes: >"
      ]
     },
     "execution_count": 22,
     "metadata": {},
     "output_type": "execute_result"
    },
    {
     "data": {
      "image/png": "[encoded data removed]",
      "text/plain": [
       "<Figure size 500x300 with 1 Axes>"
      ]
     },
     "metadata": {},
     "output_type": "display_data"
    }
   ],
   "source": [
    "datos['acceleration'].hist(bins=100, figsize = (5,3))"
   ]
  },
  {
   "cell_type": "code",
   "execution_count": null,
   "id": "5910d1c5",
   "metadata": {},
   "outputs": [],
   "source": [
    "#-- representando variables numéricas con la librer{ia seaborn --\n",
    "seleccion = datos[[\"mpg\", \"displacement\", \"horsepower\", \"weight\", \"acceleration\"]]\n",
    "plt.figure()\n",
    "sns.pairplot(seleccion, height=2, aspect=1)\n",
    "plt.show()"
   ]
  },
  {
   "cell_type": "markdown",
   "id": "8352aae6-08e3-452c-bf63-a73774b83d05",
   "metadata": {},
   "source": [
    "### Matriz de correlación"
   ]
  },
  {
   "cell_type": "code",
   "execution_count": null,
   "id": "8bcc6b8f",
   "metadata": {},
   "outputs": [],
   "source": [
    "# Calculamos la matriz de correlación utilizando algunos atributos numéricos\n",
    "corr_matrix = datos[['mpg','displacement','horsepower','weight','acceleration']].corr()\n",
    "print(corr_matrix)"
   ]
  },
  {
   "cell_type": "markdown",
   "id": "b5f5a1fc-2927-40da-ae85-eed06bcdb347",
   "metadata": {},
   "source": [
    "### Diagrama de dispersión\n",
    "\n",
    "El valor del coeficiente de correlación entre los atributos \"mpg\" y \"horsepower\" es -0.778427"
   ]
  },
  {
   "cell_type": "code",
   "execution_count": null,
   "id": "1e477423-24ae-4a8a-b02e-750de63bc81f",
   "metadata": {},
   "outputs": [],
   "source": [
    "plt.figure(figsize=(6,4))\n",
    "plt.scatter(datos['mpg'], datos['horsepower'])\n",
    "plt.show"
   ]
  },
  {
   "cell_type": "markdown",
   "id": "8e75288c-3df2-450c-a3a5-b72c2dcd6ef8",
   "metadata": {},
   "source": [
    "En el siguiente diagrama de dispersión puede verse que los autos con mayor rendimiento en millas por galón son los que tienen menor potencia de motor y tienen valor de origen=3 es decir que fueron fabricados en Japón. "
   ]
  },
  {
   "cell_type": "code",
   "execution_count": null,
   "id": "813c04ae-f777-4fe4-b9ce-cced040c779a",
   "metadata": {},
   "outputs": [],
   "source": [
    "plt.figure(figsize=(6, 4))\n",
    "scatter = plt.scatter(datos['mpg'], datos['horsepower'], c=datos['origin'], cmap='viridis', alpha=0.7)\n",
    "\n",
    "# Agregar barra de colores con etiquetas\n",
    "cbar = plt.colorbar(scatter)\n",
    "cbar.set_label(\"Origin\")\n",
    "\n",
    "# Etiquetas de ejes\n",
    "plt.xlabel(\"MPG\")\n",
    "plt.ylabel(\"Horsepower\")\n"
   ]
  }
 ],
 "metadata": {
  "kernelspec": {
   "display_name": "Python 3 (ipykernel)",
   "language": "python",
   "name": "python3"
  },
  "language_info": {
   "codemirror_mode": {
    "name": "ipython",
    "version": 3
   },
   "file_extension": ".py",
   "mimetype": "text/x-python",
   "name": "python",
   "nbconvert_exporter": "python",
   "pygments_lexer": "ipython3",
   "version": "3.11.7"
  }
 },
 "nbformat": 4,
 "nbformat_minor": 5
}
